{
  "nbformat": 4,
  "nbformat_minor": 0,
  "metadata": {
    "colab": {
      "name": "StartingNotebook.ipnyb",
      "provenance": [],
      "authorship_tag": "ABX9TyPliG8onRpaBvyqgO4DMS/H",
      "include_colab_link": true
    },
    "kernelspec": {
      "name": "python3",
      "display_name": "Python 3"
    }
  },
  "cells": [
    {
      "cell_type": "markdown",
      "metadata": {
        "id": "view-in-github",
        "colab_type": "text"
      },
      "source": [
        "<a href=\"https://colab.research.google.com/github/reidschindler/SRA268-Spring-2020/blob/master/StartingNotebook_ipnyb.ipynb\" target=\"_parent\"><img src=\"https://colab.research.google.com/assets/colab-badge.svg\" alt=\"Open In Colab\"/></a>"
      ]
    },
    {
      "cell_type": "code",
      "metadata": {
        "id": "GEItstyX4rr8",
        "colab_type": "code",
        "colab": {
          "base_uri": "https://localhost:8080/",
          "height": 34
        },
        "outputId": "174e5152-1998-4dd3-ad80-44eb21afb333"
      },
      "source": [
        "2+2"
      ],
      "execution_count": 1,
      "outputs": [
        {
          "output_type": "execute_result",
          "data": {
            "text/plain": [
              "4"
            ]
          },
          "metadata": {
            "tags": []
          },
          "execution_count": 1
        }
      ]
    },
    {
      "cell_type": "markdown",
      "metadata": {
        "id": "PfkBRIXc5iu2",
        "colab_type": "text"
      },
      "source": [
        "#Abstract "
      ]
    },
    {
      "cell_type": "markdown",
      "metadata": {
        "id": "aUMfMeq15x7e",
        "colab_type": "text"
      },
      "source": [
        "somethings in the abstract"
      ]
    },
    {
      "cell_type": "markdown",
      "metadata": {
        "id": "RUM_DYcM51Ry",
        "colab_type": "text"
      },
      "source": [
        "# introduction"
      ]
    },
    {
      "cell_type": "markdown",
      "metadata": {
        "id": "zvuQTybs55mq",
        "colab_type": "text"
      },
      "source": [
        "![mario ](https://raw.githubusercontent.com/reidschindler/SRA268-Spring-2020/master/mario.jpg\n",
        ")"
      ]
    },
    {
      "cell_type": "markdown",
      "metadata": {
        "id": "SdDmrUWG7UI0",
        "colab_type": "text"
      },
      "source": [
        ""
      ]
    }
  ]
}